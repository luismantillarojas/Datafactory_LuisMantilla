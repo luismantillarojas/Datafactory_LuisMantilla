{
 "cells": [
  {
   "cell_type": "code",
   "execution_count": 0,
   "metadata": {
    "application/vnd.databricks.v1+cell": {
     "cellMetadata": {
      "byteLimit": 2048000,
      "rowLimit": 10000
     },
     "inputWidgets": {},
     "nuid": "405451b9-c5a7-4a0a-a71f-693156688204",
     "showTitle": false,
     "title": ""
    }
   },
   "outputs": [],
   "source": [
    "##CONEXION CON STORAGE"
   ]
  },
  {
   "cell_type": "code",
   "execution_count": 0,
   "metadata": {
    "application/vnd.databricks.v1+cell": {
     "cellMetadata": {
      "byteLimit": 2048000,
      "rowLimit": 10000
     },
     "inputWidgets": {},
     "nuid": "bae50588-3691-4aab-a6bf-8f15b1fed127",
     "showTitle": false,
     "title": ""
    }
   },
   "outputs": [
    {
     "output_type": "display_data",
     "data": {
      "text/html": [
       "<style scoped>\n",
       "  .ansiout {\n",
       "    display: block;\n",
       "    unicode-bidi: embed;\n",
       "    white-space: pre-wrap;\n",
       "    word-wrap: break-word;\n",
       "    word-break: break-all;\n",
       "    font-family: \"Menlo\", \"Monaco\", \"Consolas\", \"Ubuntu Mono\", \"Source Code Pro\", monospace;\n",
       "    font-size: 13px;\n",
       "    color: #555;\n",
       "    margin-left: 4px;\n",
       "    line-height: 19px;\n",
       "  }\n",
       "</style>\n",
       "<div class=\"ansiout\">storageAccount: String = lmantillarstorage\n",
       "container: String = proyectofinal\n",
       "sasKey: String = ?sv=2022-11-02&amp;ss=bfqt&amp;srt=sco&amp;sp=rwdlacupyx&amp;se=2024-03-03T09:25:09Z&amp;st=2024-02-03T01:25:09Z&amp;spr=https&amp;sig=mStnDoTRg%2FtCKVmvTePsHEV2jBz1L4TxKVEI5a63API%3D\n",
       "conf: String = fs.azure.sas.proyectofinal.lmantillarstorage.blob.core.windows.net\n",
       "res0: Boolean = true\n",
       "</div>"
      ]
     },
     "metadata": {
      "application/vnd.databricks.v1+output": {
       "addedWidgets": {},
       "arguments": {},
       "data": "<div class=\"ansiout\">storageAccount: String = lmantillarstorage\ncontainer: String = proyectofinal\nsasKey: String = ?sv=2022-11-02&amp;ss=bfqt&amp;srt=sco&amp;sp=rwdlacupyx&amp;se=2024-03-03T09:25:09Z&amp;st=2024-02-03T01:25:09Z&amp;spr=https&amp;sig=mStnDoTRg%2FtCKVmvTePsHEV2jBz1L4TxKVEI5a63API%3D\nconf: String = fs.azure.sas.proyectofinal.lmantillarstorage.blob.core.windows.net\nres0: Boolean = true\n</div>",
       "datasetInfos": [],
       "metadata": {
        "isDbfsCommandResult": false
       },
       "removedWidgets": [],
       "type": "html"
      }
     },
     "output_type": "display_data"
    }
   ],
   "source": [
    "%scala\n",
    "val storageAccount = \"lmantillarstorage\"  \n",
    "val container = \"proyectofinal\"\n",
    "val sasKey = \"?sv=2022-11-02&ss=bfqt&srt=sco&sp=rwdlacupyx&se=2024-03-03T09:25:09Z&st=2024-02-03T01:25:09Z&spr=https&sig=mStnDoTRg%2FtCKVmvTePsHEV2jBz1L4TxKVEI5a63API%3D\"  \n",
    "val conf = \"fs.azure.sas.\" + container + \".\" + storageAccount + \".blob.core.windows.net\"\n",
    "dbutils.fs.mount(source = \"wasbs://\" + container + \"@\" + storageAccount + \".blob.core.windows.net\", mountPoint = \"/mnt/\" + container, extraConfigs = Map(conf -> sasKey))"
   ]
  },
  {
   "cell_type": "code",
   "execution_count": 0,
   "metadata": {
    "application/vnd.databricks.v1+cell": {
     "cellMetadata": {
      "byteLimit": 2048000,
      "rowLimit": 10000
     },
     "inputWidgets": {},
     "nuid": "58323583-7c71-4bdf-b838-3fe9f3457d9b",
     "showTitle": false,
     "title": ""
    }
   },
   "outputs": [],
   "source": [
    "##LEE INFORMACION DE CAPA ALTA\n",
    "dfProducto = spark.read.parquet(\"/mnt/proyectofinal/capaplata/Producto.parquet\")\n",
    "dfCategoria = spark.read.parquet(\"/mnt/proyectofinal/capaplata/Categoria.parquet\")\n",
    "dfSubcategoria = spark.read.parquet(\"/mnt/proyectofinal/capaplata/SubCategoria.parquet\")\n",
    "\n"
   ]
  },
  {
   "cell_type": "code",
   "execution_count": 0,
   "metadata": {
    "application/vnd.databricks.v1+cell": {
     "cellMetadata": {
      "byteLimit": 2048000,
      "rowLimit": 10000
     },
     "inputWidgets": {},
     "nuid": "628da080-81a8-464f-b446-674fb08c163c",
     "showTitle": false,
     "title": ""
    }
   },
   "outputs": [],
   "source": [
    "##CREAMOS VISTA TEMPORAL CON CADA DATAFRAME\n",
    "dfProducto.createOrReplaceTempView(\"Producto\")\n",
    "dfCategoria.createOrReplaceTempView(\"Categoria\")\n",
    "dfSubcategoria.createOrReplaceTempView(\"SubCategoria\")\n"
   ]
  },
  {
   "cell_type": "code",
   "execution_count": 0,
   "metadata": {
    "application/vnd.databricks.v1+cell": {
     "cellMetadata": {
      "byteLimit": 2048000,
      "implicitDf": true,
      "rowLimit": 10000
     },
     "inputWidgets": {},
     "nuid": "14f53813-1945-4742-a362-82d0bafc58cc",
     "showTitle": false,
     "title": ""
    }
   },
   "outputs": [
    {
     "output_type": "display_data",
     "data": {
      "text/html": [
       "<style scoped>\n",
       "  .table-result-container {\n",
       "    max-height: 300px;\n",
       "    overflow: auto;\n",
       "  }\n",
       "  table, th, td {\n",
       "    border: 1px solid black;\n",
       "    border-collapse: collapse;\n",
       "  }\n",
       "  th, td {\n",
       "    padding: 5px;\n",
       "  }\n",
       "  th {\n",
       "    text-align: left;\n",
       "  }\n",
       "</style><div class='table-result-container'><table class='table-result'><thead style='background-color: white'><tr></tr></thead><tbody></tbody></table></div>"
      ]
     },
     "metadata": {
      "application/vnd.databricks.v1+output": {
       "addedWidgets": {},
       "aggData": [],
       "aggError": "",
       "aggOverflow": false,
       "aggSchema": [],
       "aggSeriesLimitReached": false,
       "aggType": "",
       "arguments": {},
       "columnCustomDisplayInfos": {},
       "data": [],
       "datasetInfos": [],
       "dbfsResultPath": null,
       "isJsonSchema": true,
       "metadata": {
        "dataframeName": null
       },
       "overflow": false,
       "plotOptions": {
        "customPlotOptions": {},
        "displayType": "table",
        "pivotAggregation": null,
        "pivotColumns": null,
        "xColumns": null,
        "yColumns": null
       },
       "removedWidgets": [],
       "schema": [],
       "type": "table"
      }
     },
     "output_type": "display_data"
    }
   ],
   "source": [
    "%sql\n",
    "CREATE OR REPLACE TEMP VIEW fact_Producto AS\n",
    "SELECT P.cod_Producto, P.Nombre AS NombreProducto, S.Nombre AS NombreSubCategoria, C.Nombre AS NombreCategoria\n",
    "FROM Producto AS P\n",
    "JOIN SubCategoria AS S ON P.Cod_SubCategoria = S.Cod_SubCategoria\n",
    "JOIN Categoria AS C ON S.Cod_Categoria = C.Cod_Categoria\n",
    "\n"
   ]
  },
  {
   "cell_type": "code",
   "execution_count": 0,
   "metadata": {
    "application/vnd.databricks.v1+cell": {
     "cellMetadata": {
      "byteLimit": 2048000,
      "rowLimit": 10000
     },
     "inputWidgets": {},
     "nuid": "22ff92ea-db58-4e22-bf0b-30ecee97b80c",
     "showTitle": false,
     "title": ""
    }
   },
   "outputs": [],
   "source": [
    "dfFactProducto= spark.table(\"fact_Producto\")\n",
    "dfFactProducto.write.mode(\"overwrite\").parquet(\"/mnt/proyectofinal/capaoro/factProducto.parquet\")"
   ]
  },
  {
   "cell_type": "code",
   "execution_count": 0,
   "metadata": {
    "application/vnd.databricks.v1+cell": {
     "cellMetadata": {
      "byteLimit": 2048000,
      "rowLimit": 10000
     },
     "inputWidgets": {},
     "nuid": "6382e5db-e9b9-4217-836c-0da2813f9321",
     "showTitle": false,
     "title": ""
    }
   },
   "outputs": [],
   "source": [
    "##DESMONTAR CONEXIÓN"
   ]
  },
  {
   "cell_type": "code",
   "execution_count": 0,
   "metadata": {
    "application/vnd.databricks.v1+cell": {
     "cellMetadata": {
      "byteLimit": 2048000,
      "rowLimit": 10000
     },
     "inputWidgets": {},
     "nuid": "8239a79c-fa36-4b8f-a41c-c1547a1cf618",
     "showTitle": false,
     "title": ""
    }
   },
   "outputs": [
    {
     "output_type": "stream",
     "name": "stdout",
     "output_type": "stream",
     "text": [
      "/mnt/proyectofinal has been unmounted.\n"
     ]
    },
    {
     "output_type": "execute_result",
     "data": {
      "text/plain": [
       "True"
      ]
     },
     "execution_count": 8,
     "metadata": {},
     "output_type": "execute_result"
    }
   ],
   "source": [
    "dbutils.fs.unmount(\"/mnt/proyectofinal\")"
   ]
  }
 ],
 "metadata": {
  "application/vnd.databricks.v1+notebook": {
   "dashboards": [],
   "language": "python",
   "notebookMetadata": {
    "mostRecentlyExecutedCommandWithImplicitDF": {
     "commandId": 1225538107119227,
     "dataframes": [
      "_sqldf"
     ]
    },
    "pythonIndentUnit": 4
   },
   "notebookName": "Transferencia_datos_capaoro",
   "widgets": {}
  }
 },
 "nbformat": 4,
 "nbformat_minor": 0
}
